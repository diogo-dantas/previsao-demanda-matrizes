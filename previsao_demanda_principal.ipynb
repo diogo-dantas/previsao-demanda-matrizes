{
 "cells": [
  {
   "cell_type": "markdown",
   "id": "01e9d7ab-566f-4a15-ab3e-e34b44909c6c",
   "metadata": {},
   "source": [
    "# Previsão de Demanda com Produto de Matrizes"
   ]
  },
  {
   "cell_type": "code",
   "execution_count": null,
   "id": "e6ea7fc1-ebc8-4949-8bfd-fa7c3d47649a",
   "metadata": {},
   "outputs": [],
   "source": []
  },
  {
   "cell_type": "markdown",
   "id": "b2146e12-4e1d-463f-81d5-d1636af77102",
   "metadata": {},
   "source": []
  },
  {
   "cell_type": "markdown",
   "id": "bdb78f33-393f-486d-89a8-b9d4581b9b53",
   "metadata": {},
   "source": [
    "### Bibliotecas utilizadas"
   ]
  },
  {
   "cell_type": "code",
   "execution_count": 1,
   "id": "21011d97-fa7d-46ef-8e33-77ebcd634dcd",
   "metadata": {},
   "outputs": [],
   "source": [
    "import numpy as np\n",
    "import pandas as pd\n",
    "import matplotlib.pyplot as plt\n",
    "import seaborn as sns\n",
    "from collections import defaultdict"
   ]
  },
  {
   "cell_type": "markdown",
   "id": "08322703-6b8d-40bc-a766-763cd596f456",
   "metadata": {},
   "source": [
    "### Dados utilizados"
   ]
  },
  {
   "cell_type": "code",
   "execution_count": 2,
   "id": "03ab4000-195c-40a2-b70a-6dbf0f70a948",
   "metadata": {},
   "outputs": [],
   "source": [
    "data = {\n",
    "    ('Produto A', 'Armazem 1'): [100, 120, 80, 90, 110, 130, 95, 85, 105, 115, 90, 100],\n",
    "    ('Produto B', 'Armazem 1'): [80, 90, 100, 85, 95, 110, 90, 75, 85, 100, 95, 105],\n",
    "    ('Produto C', 'Armazem 2'): [90, 100, 85, 75, 85, 95, 80, 70, 90, 95, 85, 90],\n",
    "    ('Produto D', 'Armazem 2'): [75, 85, 90, 80, 90, 100, 85, 65, 75, 90, 80, 85]  \n",
    "}"
   ]
  },
  {
   "cell_type": "code",
   "execution_count": 3,
   "id": "f60f0810-141b-4b93-933c-bcd5ac57a60c",
   "metadata": {},
   "outputs": [],
   "source": [
    "# Matriz A - Histórico de Vendas\n",
    "matriz_a = pd.DataFrame.from_dict(data, orient='index')\n",
    "matriz_a.columns = [f'mes_{i+1}' for i in range(12)]\n",
    "matriz_a.index = pd.MultiIndex.from_tuples(\n",
    "    [('Produto A', 'Armazem 1'), ('Produto B', 'Armazem 1'), ('Produto C', 'Armazem 2'), ('Produto D', 'Armazem 2')],\n",
    "    names=['Produto', 'Armazem']\n",
    ")"
   ]
  },
  {
   "cell_type": "markdown",
   "id": "f4c7f4db-d8f9-40b8-99cf-d023c52d9236",
   "metadata": {},
   "source": [
    "- O parâmetro data é o dicionário cujas chaves serão usadas como índices do DataFrame, e os valores associados às chaves serão as linhas de dados.\n",
    "- orient='index' indica que as chaves do dicionário data representam os índices (linhas) do DataFrame.\n",
    "- matriz_a está usando uma list comprehension para criar os nomes de colunas no formato mes_1, mes_2, ..., mes_12, representando 12 meses de histórico."
   ]
  },
  {
   "cell_type": "code",
   "execution_count": 4,
   "id": "6ed6a893-1da2-4a47-a69d-e865d738af67",
   "metadata": {},
   "outputs": [],
   "source": [
    "# Matriz B - Fatores de Previsão\n",
    "# (Neste exemplo, vamos considerar apenas um fator de previsão: índices de mercado e ações de promoção )\n",
    "indices = {\n",
    "    \n",
    "    ('Actual') :[1.15 if i % 2 == 0 else 0.8 for i in range(12)],\n",
    "    ('Worst Case'): [1.10 if i % 2 == 0 else 0.9 for i in range(12)],\n",
    "    ('Best Case'): [1.2 if i % 2 == 0 else 0.7 for i in range(12)],\n",
    "    ('Most Likely'): [1.16 if i % 2 == 0 else 0.85 for i in range(12)]\n",
    "}"
   ]
  },
  {
   "cell_type": "code",
   "execution_count": 5,
   "id": "2b77ec92-eae4-4a70-b4bd-96a48c1c043f",
   "metadata": {},
   "outputs": [],
   "source": [
    "matriz_b = pd.DataFrame.from_dict(indices, orient='index')\n",
    "matriz_b.columns = [f'mes_{i+1}' for i in range(12)]\n",
    "matriz_b_transposta = matriz_b.T"
   ]
  },
  {
   "cell_type": "markdown",
   "id": "b78966b5-2094-4392-b429-c9349c13fe96",
   "metadata": {},
   "source": [
    "- Utilizando o mesmo raciocínio do exercício anterior, transformamos o dicionário de promoções dos últimos 12 meses cujas chaves serão usadas como índices do DataFrame, e os valores associados às chaves serão as linhas de dados."
   ]
  },
  {
   "cell_type": "code",
   "execution_count": 6,
   "id": "be6cde63-51a9-42e5-982c-a313d50caf45",
   "metadata": {},
   "outputs": [
    {
     "name": "stdout",
     "output_type": "stream",
     "text": [
      "Forma da Matriz A: (4, 12)\n",
      "Forma da Matriz B: (4, 12)\n",
      "Forma da Matriz B: (12, 4)\n"
     ]
    }
   ],
   "source": [
    "print(\"Forma da Matriz A:\", matriz_a.shape)\n",
    "print(\"Forma da Matriz B:\", matriz_b.shape)\n",
    "print(\"Forma da Matriz B:\", matriz_b_transposta.shape)"
   ]
  },
  {
   "cell_type": "code",
   "execution_count": 7,
   "id": "e860831a-9ced-4cd9-bb56-511cdeedebdc",
   "metadata": {},
   "outputs": [],
   "source": [
    "# Matriz C - Previsão de Demanda Futura\n",
    "matriz_c = matriz_a.dot(matriz_b_transposta)"
   ]
  },
  {
   "cell_type": "code",
   "execution_count": 8,
   "id": "7c8af701-1dfb-4928-acbe-c39ad83f90b0",
   "metadata": {},
   "outputs": [],
   "source": [
    "matriz_c.index = matriz_a.index  \n",
    "matriz_c.columns = matriz_b.index"
   ]
  },
  {
   "cell_type": "code",
   "execution_count": 20,
   "id": "55c4b0bd-ef0e-46ed-b9df-4296b654a3ac",
   "metadata": {},
   "outputs": [
    {
     "name": "stdout",
     "output_type": "stream",
     "text": [
      "\n",
      "Resultado do produto de matrizes com índices corretos:\n",
      "\n",
      "                      Actual  Worst Case  Best Case  Most Likely\n",
      "Produto   Armazem                                               \n",
      "Produto A Armazem 1  1179.00      1214.0     1144.0      1216.80\n",
      "Produto B Armazem 1  1078.75      1108.0     1049.5      1112.45\n",
      "Produto C Armazem 2  1012.25      1039.0      985.5      1043.65\n",
      "Produto D Armazem 2   973.25       999.0      947.5      1003.45\n"
     ]
    }
   ],
   "source": [
    "print(\"\\nResultado do produto de matrizes com índices corretos:\\n\")\n",
    "print(matriz_c)\n"
   ]
  },
  {
   "cell_type": "code",
   "execution_count": null,
   "id": "a9760e47-df46-4519-b397-ee51bb7370a2",
   "metadata": {},
   "outputs": [],
   "source": []
  }
 ],
 "metadata": {
  "kernelspec": {
   "display_name": "Python 3 (ipykernel)",
   "language": "python",
   "name": "python3"
  },
  "language_info": {
   "codemirror_mode": {
    "name": "ipython",
    "version": 3
   },
   "file_extension": ".py",
   "mimetype": "text/x-python",
   "name": "python",
   "nbconvert_exporter": "python",
   "pygments_lexer": "ipython3",
   "version": "3.12.3"
  }
 },
 "nbformat": 4,
 "nbformat_minor": 5
}
