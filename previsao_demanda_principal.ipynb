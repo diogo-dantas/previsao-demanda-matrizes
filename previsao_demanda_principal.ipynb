{
 "cells": [
  {
   "cell_type": "markdown",
   "id": "01e9d7ab-566f-4a15-ab3e-e34b44909c6c",
   "metadata": {},
   "source": [
    "# Previsão de Demanda com Produto de Matrizes"
   ]
  },
  {
   "cell_type": "code",
   "execution_count": null,
   "id": "e6ea7fc1-ebc8-4949-8bfd-fa7c3d47649a",
   "metadata": {},
   "outputs": [],
   "source": []
  },
  {
   "cell_type": "markdown",
   "id": "b2146e12-4e1d-463f-81d5-d1636af77102",
   "metadata": {},
   "source": []
  },
  {
   "cell_type": "markdown",
   "id": "bdb78f33-393f-486d-89a8-b9d4581b9b53",
   "metadata": {},
   "source": [
    "### Bibliotecas utilizadas"
   ]
  },
  {
   "cell_type": "code",
   "execution_count": 2,
   "id": "21011d97-fa7d-46ef-8e33-77ebcd634dcd",
   "metadata": {},
   "outputs": [
    {
     "ename": "ModuleNotFoundError",
     "evalue": "No module named 'pandas'",
     "output_type": "error",
     "traceback": [
      "\u001b[0;31m---------------------------------------------------------------------------\u001b[0m",
      "\u001b[0;31mModuleNotFoundError\u001b[0m                       Traceback (most recent call last)",
      "Cell \u001b[0;32mIn[2], line 1\u001b[0m\n\u001b[0;32m----> 1\u001b[0m \u001b[38;5;28;01mimport\u001b[39;00m \u001b[38;5;21;01mpandas\u001b[39;00m \u001b[38;5;28;01mas\u001b[39;00m \u001b[38;5;21;01mpd\u001b[39;00m\n",
      "\u001b[0;31mModuleNotFoundError\u001b[0m: No module named 'pandas'"
     ]
    }
   ],
   "source": [
    "import pandas as pd"
   ]
  },
  {
   "cell_type": "markdown",
   "id": "08322703-6b8d-40bc-a766-763cd596f456",
   "metadata": {},
   "source": [
    "### Dados utilizados"
   ]
  },
  {
   "cell_type": "code",
   "execution_count": null,
   "id": "03ab4000-195c-40a2-b70a-6dbf0f70a948",
   "metadata": {},
   "outputs": [],
   "source": [
    "data = {\n",
    "    ('Produto A', 'Armazem 1'): [100, 120, 80, 90, 110, 130, 95, 85, 105, 115, 90, 100, 125, 135, 75, 85, 100, 120, 90, 80, 110, 105, 95, 115],\n",
    "    ('Produto B', 'Armazem 1'): [80, 90, 100, 85, 95, 110, 90, 75, 85, 100, 95, 105, 120, 130, 70, 80, 90, 100, 85, 75, 95, 90, 100, 110],\n",
    "    ('Produto C', 'Armazem 2'): [90, 100, 85, 75, 85, 95, 80, 70, 90, 95, 85, 90, 110, 120, 65, 75, 85, 90, 75, 70, 85, 90, 80, 95],\n",
    "    ('Produto D', 'Armazem 2'): [75, 85, 90, 80, 90, 100, 85, 65, 75, 90, 80, 85, 100, 110, 60, 70, 80, 90, 70, 65, 90, 85, 75, 100]\n",
    "}\n"
   ]
  },
  {
   "cell_type": "code",
   "execution_count": null,
   "id": "f60f0810-141b-4b93-933c-bcd5ac57a60c",
   "metadata": {},
   "outputs": [],
   "source": [
    "# Matriz A - Histórico de Vendas\n",
    "matriz_a = pd.DataFrame.from_dict(data, orient='index')\n",
    "matriz_a.columns = [f'mes_{i+1}' for i in range(24)]"
   ]
  },
  {
   "cell_type": "markdown",
   "id": "f4c7f4db-d8f9-40b8-99cf-d023c52d9236",
   "metadata": {},
   "source": [
    "- O parâmetro data é o dicionário cujas chaves serão usadas como índices do DataFrame, e os valores associados às chaves serão as linhas de dados.\n",
    "- orient='index' indica que as chaves do dicionário data representam os índices (linhas) do DataFrame.\n",
    "- matriz_a está usando uma list comprehension para criar os nomes de colunas no formato mes_1, mes_2, ..., mes_24, representando 24 meses de histórico"
   ]
  },
  {
   "cell_type": "code",
   "execution_count": null,
   "id": "7bffb770-2619-4dd7-a92a-e27cc6176d58",
   "metadata": {},
   "outputs": [],
   "source": []
  }
 ],
 "metadata": {
  "kernelspec": {
   "display_name": "Python 3 (ipykernel)",
   "language": "python",
   "name": "python3"
  },
  "language_info": {
   "codemirror_mode": {
    "name": "ipython",
    "version": 3
   },
   "file_extension": ".py",
   "mimetype": "text/x-python",
   "name": "python",
   "nbconvert_exporter": "python",
   "pygments_lexer": "ipython3",
   "version": "3.12.3"
  }
 },
 "nbformat": 4,
 "nbformat_minor": 5
}
